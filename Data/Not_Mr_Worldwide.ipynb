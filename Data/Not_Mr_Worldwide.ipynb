{
 "cells": [
  {
   "cell_type": "markdown",
   "id": "8ff4d1be-eef3-468d-8927-efd3120b8d2d",
   "metadata": {},
   "source": [
    "# not mr worldwide"
   ]
  },
  {
   "cell_type": "code",
   "execution_count": 1,
   "id": "13921633-7bf7-46cf-87fd-59e9df43a7a6",
   "metadata": {},
   "outputs": [],
   "source": [
    "import json\n",
    "import requests\n",
    "import pandas as pd\n",
    "import numpy as np"
   ]
  },
  {
   "cell_type": "code",
   "execution_count": 2,
   "id": "dc9f607e-ec27-4d0a-8f9b-2a8b14bcede7",
   "metadata": {},
   "outputs": [],
   "source": [
    "import lyricsgenius\n",
    "from lyricsgenius import Genius\n",
    "\n",
    "genius = lyricsgenius.Genius('token') # replace token  "
   ]
  },
  {
   "cell_type": "markdown",
   "id": "a68cca73-1823-4609-8df8-2b5d2a712ddb",
   "metadata": {},
   "source": [
    "Similar artists found [here](https://www.allmusic.com/artist/pitbull-mn0000350685/related)\n",
    "(many other websites featured the same artists as being similar to Pitbull)"
   ]
  },
  {
   "cell_type": "markdown",
   "id": "1a14adbf-1a85-42fd-aa71-6c27b4311009",
   "metadata": {},
   "source": [
    "I will be collecting lyrics from artists similar to Pitbull as a way to make my model more accurate when given similar lyrics, as well as collecting artists that do not seem similar to Mr. Worldwide."
   ]
  },
  {
   "cell_type": "markdown",
   "id": "2a60459d-9a4e-43b6-ac8f-2e00f7dbab9f",
   "metadata": {},
   "source": [
    "I will also be sure to include artists with spanish lyrics to make the model more accurate. "
   ]
  },
  {
   "cell_type": "markdown",
   "id": "5c3a79c3-9b70-45a2-a4e1-a5337b9d696c",
   "metadata": {},
   "source": [
    "The lyrics will need to be vetted for any features from Pitbull, just as Pitbull's songs need to only include his own lyrics. Rather than going through each artist, I will exclude features from their pulled lyrics."
   ]
  },
  {
   "cell_type": "markdown",
   "id": "80358b6d-3ce7-4235-b73f-f037585bdb91",
   "metadata": {},
   "source": [
    "I am removing the sort by titles parameter to make the songs pulled more at random."
   ]
  },
  {
   "cell_type": "markdown",
   "id": "777cb817-9f12-49ed-a98b-b901b6781308",
   "metadata": {},
   "source": [
    "**When running these cells on your own:** you may run into Timeout errors - rerun the cell (as many times as needed) and they should eventually run all the way through without this error. There are some resources/forums with tips to work around the Timeout, but I chose to use my wait time to collect Pitbull memes. "
   ]
  },
  {
   "cell_type": "markdown",
   "id": "eafb073c-c67e-46e4-8076-4991ebef68c1",
   "metadata": {},
   "source": [
    "## Similar Artists "
   ]
  },
  {
   "cell_type": "markdown",
   "id": "7953e03d-eee5-497b-81d6-9b0cd9c754c6",
   "metadata": {},
   "source": [
    "#### Sean Kingston "
   ]
  },
  {
   "cell_type": "code",
   "execution_count": 4,
   "id": "8f450071-98de-4b11-b04d-a78b3f6f0f68",
   "metadata": {},
   "outputs": [
    {
     "name": "stdout",
     "output_type": "stream",
     "text": [
      "Searching for songs by Sean Kingston...\n",
      "\n",
      "Song 1: \"Beautiful Girls\"\n",
      "Song 2: \"Beat It\"\n",
      "Song 3: \"Fire Burning\"\n",
      "Song 4: \"Letting Go (Dutty Love)\"\n",
      "Song 5: \"Take You There\"\n",
      "Song 6: \"Born To Be Wild\"\n",
      "Song 7: \"Me Love\"\n",
      "Song 8: \"Peace of Mind\"\n",
      "Song 9: \"All I Got\"\n",
      "Song 10: \"Chance\"\n",
      "Song 11: \"Beautiful Girls (Remix)\"\n",
      "Song 12: \"Seasonal Love\"\n",
      "Song 13: \"There’s Nothin’\"\n",
      "Song 14: \"Dumb Love\"\n",
      "Song 15: \"Colors\"\n",
      "Song 16: \"I’m At War\"\n",
      "Song 17: \"Why You Wanna Go\"\n",
      "Song 18: \"Back 2 Life (Live it Up)\"\n",
      "Song 19: \"Face Drop\"\n",
      "Song 20: \"Ecstasy\"\n",
      "\n",
      "Reached user-specified song limit (20).\n",
      "Done. Found 20 songs.\n",
      "[Song(id, artist, ...), Song(id, artist, ...), Song(id, artist, ...), Song(id, artist, ...), Song(id, artist, ...), Song(id, artist, ...), Song(id, artist, ...), Song(id, artist, ...), Song(id, artist, ...), Song(id, artist, ...), Song(id, artist, ...), Song(id, artist, ...), Song(id, artist, ...), Song(id, artist, ...), Song(id, artist, ...), Song(id, artist, ...), Song(id, artist, ...), Song(id, artist, ...), Song(id, artist, ...), Song(id, artist, ...)]\n",
      "Wrote Lyrics_SeanKingston.json.\n"
     ]
    }
   ],
   "source": [
    "artist = genius.search_artist('Sean Kingston', max_songs=20, include_features=False)\n",
    "print(artist.songs)\n",
    "artist.save_lyrics()"
   ]
  },
  {
   "cell_type": "markdown",
   "id": "3d354269-6786-46e3-82a1-b010ed294021",
   "metadata": {},
   "source": [
    "#### Sean Paul"
   ]
  },
  {
   "cell_type": "code",
   "execution_count": 6,
   "id": "44afa904-9603-44c3-8bd8-92a296016e71",
   "metadata": {},
   "outputs": [
    {
     "name": "stdout",
     "output_type": "stream",
     "text": [
      "Searching for songs by Sean Paul...\n",
      "\n",
      "Song 1: \"No Lie\"\n",
      "Song 2: \"Temperature\"\n",
      "Song 3: \"Get Busy\"\n",
      "Song 4: \"Like Glue\"\n",
      "Song 5: \"I’m Still in Love with You\"\n",
      "Song 6: \"Body (Migos Version)\"\n",
      "Song 7: \"Gimme the Light\"\n",
      "Song 8: \"She Doesn’t Mind\"\n",
      "Song 9: \"We Be Burnin’ (Recognize It)\"\n",
      "Song 10: \"Tek Weh Yuh Heart\"\n",
      "Song 11: \"(When You Gonna) Give It Up to Me\"\n",
      "Song 12: \"Got 2 Luv U\"\n",
      "Song 13: \"Punkie\"\n",
      "Song 14: \"Dynamite\"\n",
      "Song 15: \"Entertainment 2.0\"\n",
      "Song 16: \"Hold My Hand\"\n",
      "Song 17: \"Shake That Thing\"\n",
      "Song 18: \"We Be Burnin’ (Legalize It)\"\n",
      "Song 19: \"Body\"\n",
      "Song 20: \"Bad Love\"\n",
      "\n",
      "Reached user-specified song limit (20).\n",
      "Done. Found 20 songs.\n",
      "[Song(id, artist, ...), Song(id, artist, ...), Song(id, artist, ...), Song(id, artist, ...), Song(id, artist, ...), Song(id, artist, ...), Song(id, artist, ...), Song(id, artist, ...), Song(id, artist, ...), Song(id, artist, ...), Song(id, artist, ...), Song(id, artist, ...), Song(id, artist, ...), Song(id, artist, ...), Song(id, artist, ...), Song(id, artist, ...), Song(id, artist, ...), Song(id, artist, ...), Song(id, artist, ...), Song(id, artist, ...)]\n",
      "Wrote Lyrics_SeanPaul.json.\n"
     ]
    }
   ],
   "source": [
    "artist = genius.search_artist('Sean Paul', max_songs=20, include_features=False)\n",
    "print(artist.songs)\n",
    "artist.save_lyrics()"
   ]
  },
  {
   "cell_type": "markdown",
   "id": "02399b86-ee5c-4f75-9083-4c8a61f59024",
   "metadata": {},
   "source": [
    "#### Jason Derulo"
   ]
  },
  {
   "cell_type": "code",
   "execution_count": 7,
   "id": "cd592cc2-28a6-409f-9f91-c40a6d1f133d",
   "metadata": {},
   "outputs": [
    {
     "name": "stdout",
     "output_type": "stream",
     "text": [
      "Searching for songs by Jason Derulo...\n",
      "\n",
      "Song 1: \"Swalla\"\n",
      "Song 2: \"Talk Dirty\"\n",
      "Song 3: \"Wiggle\"\n",
      "Song 4: \"Whatcha Say\"\n",
      "Song 5: \"Trumpets\"\n",
      "Song 6: \"Tip Toe\"\n",
      "Song 7: \"Want to Want Me\"\n",
      "Song 8: \"Marry Me\"\n",
      "Song 9: \"If I’m Lucky\"\n",
      "Song 10: \"Take You Dancing\"\n",
      "Song 11: \"Colors\"\n",
      "Song 12: \"Get Ugly\"\n",
      "Song 13: \"The Other Side\"\n",
      "Song 14: \"I’m Han Solo\"\n",
      "Song 15: \"It Girl\"\n",
      "Song 16: \"Ridin’ Solo\"\n",
      "Song 17: \"In My Head\"\n",
      "Song 18: \"Colors (Latin Remix)\"\n",
      "Song 19: \"Cheyenne\"\n",
      "Song 20: \"Bubblegum\"\n",
      "\n",
      "Reached user-specified song limit (20).\n",
      "Done. Found 20 songs.\n",
      "[Song(id, artist, ...), Song(id, artist, ...), Song(id, artist, ...), Song(id, artist, ...), Song(id, artist, ...), Song(id, artist, ...), Song(id, artist, ...), Song(id, artist, ...), Song(id, artist, ...), Song(id, artist, ...), Song(id, artist, ...), Song(id, artist, ...), Song(id, artist, ...), Song(id, artist, ...), Song(id, artist, ...), Song(id, artist, ...), Song(id, artist, ...), Song(id, artist, ...), Song(id, artist, ...), Song(id, artist, ...)]\n",
      "Wrote Lyrics_JasonDerulo.json.\n"
     ]
    }
   ],
   "source": [
    "artist = genius.search_artist('Jason Derulo', max_songs=20, include_features=False)\n",
    "print(artist.songs)\n",
    "artist.save_lyrics()"
   ]
  },
  {
   "cell_type": "markdown",
   "id": "d775b840-e527-4011-a1e3-48189cd41aae",
   "metadata": {},
   "source": [
    "#### T-Pain"
   ]
  },
  {
   "cell_type": "code",
   "execution_count": 9,
   "id": "2461d587-2b83-4225-b47f-a7c8e4e6306b",
   "metadata": {},
   "outputs": [
    {
     "name": "stdout",
     "output_type": "stream",
     "text": [
      "Searching for songs by T-Pain...\n",
      "\n",
      "Song 1: \"Buy U A Drank (Shawty Snappin’)\"\n",
      "Song 2: \"Up Down (Do This All Day)\"\n",
      "Song 3: \"Can’t Believe It\"\n",
      "Song 4: \"I’m ’N Luv (Wit a Stripper)\"\n",
      "Song 5: \"I’m Sprung\"\n",
      "Song 6: \"Bartender\"\n",
      "Song 7: \"5 O’Clock\"\n",
      "Song 8: \"Dan Bilzerian\"\n",
      "Song 9: \"Mashup\"\n",
      "Song 10: \"Booty (T-Mix)\"\n",
      "Song 11: \"Panda (T-mix)\"\n",
      "Song 12: \"Best Love Song\"\n",
      "Song 13: \"F.B.G.M.\"\n",
      "Song 14: \"Bang Bang Pow Pow\"\n",
      "Song 15: \"I’m N Luv Wit a Stripper (Remix)\"\n",
      "Song 16: \"Textin’ My Ex\"\n",
      "Song 17: \"Wake Up Dead\"\n",
      "Song 18: \"Boo’d Up (T-Mix)\"\n",
      "Song 19: \"Chopped N Skrewed\"\n",
      "Song 20: \"Booty Wurk (One Cheek at a Time)\"\n",
      "\n",
      "Reached user-specified song limit (20).\n",
      "Done. Found 20 songs.\n",
      "[Song(id, artist, ...), Song(id, artist, ...), Song(id, artist, ...), Song(id, artist, ...), Song(id, artist, ...), Song(id, artist, ...), Song(id, artist, ...), Song(id, artist, ...), Song(id, artist, ...), Song(id, artist, ...), Song(id, artist, ...), Song(id, artist, ...), Song(id, artist, ...), Song(id, artist, ...), Song(id, artist, ...), Song(id, artist, ...), Song(id, artist, ...), Song(id, artist, ...), Song(id, artist, ...), Song(id, artist, ...)]\n",
      "Wrote Lyrics_TPain.json.\n"
     ]
    }
   ],
   "source": [
    "artist = genius.search_artist('T-Pain', max_songs=20, include_features=False)\n",
    "print(artist.songs)\n",
    "artist.save_lyrics()"
   ]
  },
  {
   "cell_type": "markdown",
   "id": "d78b96a7-768b-45c4-9e08-4bafd936400c",
   "metadata": {},
   "source": [
    "#### Flo Rida"
   ]
  },
  {
   "cell_type": "code",
   "execution_count": 11,
   "id": "cfebdf0d-de59-4b45-87cd-cd0b797c680d",
   "metadata": {},
   "outputs": [
    {
     "name": "stdout",
     "output_type": "stream",
     "text": [
      "Searching for songs by Flo Rida...\n",
      "\n",
      "Song 1: \"Low\"\n",
      "Song 2: \"Whistle\"\n",
      "Song 3: \"My House\"\n",
      "Song 4: \"GDFR\"\n",
      "Song 5: \"Right Round\"\n",
      "Song 6: \"Good Feeling\"\n",
      "Song 7: \"Wild Ones\"\n",
      "Song 8: \"I Don’t Like It, I Love It\"\n",
      "Song 9: \"I Cry\"\n",
      "Song 10: \"Hola\"\n",
      "Song 11: \"Club Can’t Handle Me\"\n",
      "Song 12: \"Can’t Believe It\"\n",
      "Song 13: \"Game Time\"\n",
      "Song 14: \"Sugar\"\n",
      "Song 15: \"Dancer\"\n",
      "Song 16: \"Low (Travis Barker Remix)\"\n",
      "Song 17: \"Hello Friday\"\n",
      "Song 18: \"Elevator\"\n",
      "Song 19: \"Sweet Sensation\"\n",
      "Song 20: \"Who Dat Girl\"\n",
      "\n",
      "Reached user-specified song limit (20).\n",
      "Done. Found 20 songs.\n",
      "[Song(id, artist, ...), Song(id, artist, ...), Song(id, artist, ...), Song(id, artist, ...), Song(id, artist, ...), Song(id, artist, ...), Song(id, artist, ...), Song(id, artist, ...), Song(id, artist, ...), Song(id, artist, ...), Song(id, artist, ...), Song(id, artist, ...), Song(id, artist, ...), Song(id, artist, ...), Song(id, artist, ...), Song(id, artist, ...), Song(id, artist, ...), Song(id, artist, ...), Song(id, artist, ...), Song(id, artist, ...)]\n",
      "Wrote Lyrics_FloRida.json.\n"
     ]
    }
   ],
   "source": [
    "artist = genius.search_artist('Flo Rida', max_songs=20, include_features=False)\n",
    "print(artist.songs)\n",
    "artist.save_lyrics()"
   ]
  },
  {
   "cell_type": "markdown",
   "id": "ecd660a1-abfb-4ea1-bc48-62b625721ffa",
   "metadata": {},
   "source": [
    "#### LMFAO"
   ]
  },
  {
   "cell_type": "code",
   "execution_count": 12,
   "id": "4ad604f9-5e1e-46c7-8eff-aeadc927ccb2",
   "metadata": {},
   "outputs": [
    {
     "name": "stdout",
     "output_type": "stream",
     "text": [
      "Searching for songs by LMFAO...\n",
      "\n",
      "Song 1: \"Party Rock Anthem\"\n",
      "Song 2: \"Sexy and I Know It\"\n",
      "Song 3: \"Shots\"\n",
      "Song 4: \"Sorry for Party Rocking\"\n",
      "Song 5: \"Champagne Showers\"\n",
      "Song 6: \"Yes\"\n",
      "Song 7: \"I’m in Miami Bitch\"\n",
      "Song 8: \"La La La\"\n",
      "Song 9: \"Get Crazy\"\n",
      "Song 10: \"One Day\"\n",
      "Song 11: \"Take It to the Hole\"\n",
      "Song 12: \"Hot Dog\"\n",
      "Song 13: \"I Am Not a Whore\"\n",
      "Song 14: \"All Night Long\"\n",
      "Song 15: \"Best Night\"\n",
      "Song 16: \"Reminds Me of You\"\n",
      "Song 17: \"We Came Here to Party\"\n",
      "Song 18: \"Rock the Beat II\"\n",
      "Song 19: \"Put That Ass to Work\"\n",
      "Song 20: \"With You\"\n",
      "\n",
      "Reached user-specified song limit (20).\n",
      "Done. Found 20 songs.\n",
      "[Song(id, artist, ...), Song(id, artist, ...), Song(id, artist, ...), Song(id, artist, ...), Song(id, artist, ...), Song(id, artist, ...), Song(id, artist, ...), Song(id, artist, ...), Song(id, artist, ...), Song(id, artist, ...), Song(id, artist, ...), Song(id, artist, ...), Song(id, artist, ...), Song(id, artist, ...), Song(id, artist, ...), Song(id, artist, ...), Song(id, artist, ...), Song(id, artist, ...), Song(id, artist, ...), Song(id, artist, ...)]\n",
      "Wrote Lyrics_LMFAO.json.\n"
     ]
    }
   ],
   "source": [
    "artist = genius.search_artist('LMFAO', max_songs=20, include_features=False)\n",
    "print(artist.songs)\n",
    "artist.save_lyrics()"
   ]
  },
  {
   "cell_type": "markdown",
   "id": "deea597f-7f92-48dd-a6bb-51e55805ef17",
   "metadata": {},
   "source": [
    "#### Major Lazer"
   ]
  },
  {
   "cell_type": "code",
   "execution_count": 15,
   "id": "d63d7e2d-e371-4dbe-96f6-4c985d9d835c",
   "metadata": {},
   "outputs": [
    {
     "name": "stdout",
     "output_type": "stream",
     "text": [
      "Searching for songs by Major Lazer...\n",
      "\n",
      "Song 1: \"Cold Water\"\n",
      "Song 2: \"Lean On\"\n",
      "Song 3: \"Bubble Butt\"\n",
      "Song 4: \"Run Up\"\n",
      "Song 5: \"Get Free\"\n",
      "Song 6: \"Know No Better\"\n",
      "Song 7: \"Be Together\"\n",
      "Song 8: \"Boom\"\n",
      "Song 9: \"Powerful\"\n",
      "Song 10: \"Night Riders\"\n",
      "Song 11: \"Aerosol Can\"\n",
      "Song 12: \"Jessica\"\n",
      "Song 13: \"Know No Better (Bad Bunny Remix)\"\n",
      "Song 14: \"Come On To Me\"\n",
      "Song 15: \"Light It Up\"\n",
      "Song 16: \"Sua Cara\"\n",
      "Song 17: \"Watch Out For This (Bumaye)\"\n",
      "Song 18: \"Light It Up (Remix)\"\n",
      "Song 19: \"Que Calor\"\n",
      "Song 20: \"All My Love\"\n",
      "\n",
      "Reached user-specified song limit (20).\n",
      "Done. Found 20 songs.\n",
      "[Song(id, artist, ...), Song(id, artist, ...), Song(id, artist, ...), Song(id, artist, ...), Song(id, artist, ...), Song(id, artist, ...), Song(id, artist, ...), Song(id, artist, ...), Song(id, artist, ...), Song(id, artist, ...), Song(id, artist, ...), Song(id, artist, ...), Song(id, artist, ...), Song(id, artist, ...), Song(id, artist, ...), Song(id, artist, ...), Song(id, artist, ...), Song(id, artist, ...), Song(id, artist, ...), Song(id, artist, ...)]\n",
      "Wrote Lyrics_MajorLazer.json.\n"
     ]
    }
   ],
   "source": [
    "artist = genius.search_artist('Major Lazer', max_songs=20, include_features=False)\n",
    "print(artist.songs)\n",
    "artist.save_lyrics() "
   ]
  },
  {
   "cell_type": "markdown",
   "id": "9f6849de-fb8a-409d-92eb-81364242aa5c",
   "metadata": {},
   "source": [
    "#### Ne-Yo"
   ]
  },
  {
   "cell_type": "code",
   "execution_count": 19,
   "id": "eaabff10-d839-4bba-98d5-e3fe4895f2e4",
   "metadata": {},
   "outputs": [
    {
     "name": "stdout",
     "output_type": "stream",
     "text": [
      "Searching for songs by Ne-Yo...\n",
      "\n",
      "Song 1: \"So Sick\"\n",
      "Song 2: \"Miss Independent\"\n",
      "Song 3: \"Because of You\"\n",
      "Song 4: \"She Knows\"\n",
      "Song 5: \"Mad\"\n",
      "Song 6: \"She Knows (Remix)\"\n",
      "Song 7: \"Sexy Love\"\n",
      "Song 8: \"She Got Her Own\"\n",
      "Song 9: \"Closer\"\n",
      "Song 10: \"Let Me Love You (Until You Learn to Love Yourself)\"\n",
      "Song 11: \"One in a Million\"\n",
      "Song 12: \"Because Of You (Remix)\"\n",
      "Song 13: \"Never Knew I Needed\"\n",
      "Song 14: \"GOOD MAN\"\n",
      "Song 15: \"Lazy Love\"\n",
      "Song 16: \"Do You\"\n",
      "Song 17: \"Go on Girl\"\n",
      "Song 18: \"Money Can’t Buy\"\n",
      "Song 19: \"Another Love Song\"\n",
      "Song 20: \"Religious / Ratchet Wit Yo Friends\"\n",
      "\n",
      "Reached user-specified song limit (20).\n",
      "Done. Found 20 songs.\n",
      "[Song(id, artist, ...), Song(id, artist, ...), Song(id, artist, ...), Song(id, artist, ...), Song(id, artist, ...), Song(id, artist, ...), Song(id, artist, ...), Song(id, artist, ...), Song(id, artist, ...), Song(id, artist, ...), Song(id, artist, ...), Song(id, artist, ...), Song(id, artist, ...), Song(id, artist, ...), Song(id, artist, ...), Song(id, artist, ...), Song(id, artist, ...), Song(id, artist, ...), Song(id, artist, ...), Song(id, artist, ...)]\n",
      "Wrote Lyrics_NeYo.json.\n"
     ]
    }
   ],
   "source": [
    "artist = genius.search_artist('Ne-Yo', max_songs=20, include_features=False)\n",
    "print(artist.songs)\n",
    "artist.save_lyrics() "
   ]
  },
  {
   "cell_type": "markdown",
   "id": "0a1146ac-0efc-4db3-8a01-291bc092012c",
   "metadata": {},
   "source": [
    "#### J Balvin"
   ]
  },
  {
   "cell_type": "code",
   "execution_count": 21,
   "id": "fcae3d1e-0eef-4480-bb02-b3a8c72aa601",
   "metadata": {},
   "outputs": [
    {
     "name": "stdout",
     "output_type": "stream",
     "text": [
      "Searching for songs by J Balvin...\n",
      "\n",
      "Song 1: \"Safari\"\n",
      "Song 2: \"Si Tu Novio Te Deja Sola\"\n",
      "Song 3: \"Ginza\"\n",
      "Song 4: \"Morado\"\n",
      "Song 5: \"Blanco\"\n",
      "Song 6: \"Ambiente\"\n",
      "Song 7: \"Amarillo\"\n",
      "Song 8: \"Ahora\"\n",
      "Song 9: \"Rosa\"\n",
      "Song 10: \"Rojo\"\n",
      "Song 11: \"Azul\"\n",
      "Song 12: \"Negro\"\n",
      "Song 13: \"Ginza (Remix)\"\n",
      "Song 14: \"Sigo Extrañándote\"\n",
      "Song 15: \"Ay Vamos\"\n",
      "Song 16: \"Reggaeton\"\n",
      "Song 17: \"Gris\"\n",
      "Song 18: \"Ay Vamos (Remix)\"\n",
      "Song 19: \"6 AM\"\n",
      "Song 20: \"Peligrosa\"\n",
      "\n",
      "Reached user-specified song limit (20).\n",
      "Done. Found 20 songs.\n",
      "[Song(id, artist, ...), Song(id, artist, ...), Song(id, artist, ...), Song(id, artist, ...), Song(id, artist, ...), Song(id, artist, ...), Song(id, artist, ...), Song(id, artist, ...), Song(id, artist, ...), Song(id, artist, ...), Song(id, artist, ...), Song(id, artist, ...), Song(id, artist, ...), Song(id, artist, ...), Song(id, artist, ...), Song(id, artist, ...), Song(id, artist, ...), Song(id, artist, ...), Song(id, artist, ...), Song(id, artist, ...)]\n",
      "Wrote Lyrics_JBalvin.json.\n"
     ]
    }
   ],
   "source": [
    "artist = genius.search_artist('J Balvin', max_songs=20, include_features=False)\n",
    "print(artist.songs)\n",
    "artist.save_lyrics() "
   ]
  },
  {
   "cell_type": "markdown",
   "id": "5175d037-680e-4dee-a332-b96667f40479",
   "metadata": {},
   "source": [
    "#### Akon"
   ]
  },
  {
   "cell_type": "code",
   "execution_count": 24,
   "id": "9fc786e6-1971-45fa-9c5a-17bc6f680cf4",
   "metadata": {},
   "outputs": [
    {
     "name": "stdout",
     "output_type": "stream",
     "text": [
      "Searching for songs by Akon...\n",
      "\n",
      "Song 1: \"Lonely\"\n",
      "Song 2: \"Smack That\"\n",
      "Song 3: \"Sorry, Blame It On Me\"\n",
      "Song 4: \"Don’t Matter\"\n",
      "Song 5: \"I Wanna Fuck You\"\n",
      "Song 6: \"I Wanna Love You\"\n",
      "Song 7: \"Right Now (Na Na Na)\"\n",
      "Song 8: \"Locked Up\"\n",
      "Song 9: \"Beautiful\"\n",
      "Song 10: \"I’m So Paid\"\n",
      "Song 11: \"Ghetto\"\n",
      "Song 12: \"Bananza (Belly Dancer)\"\n",
      "Song 13: \"Locked Up (Remix)\"\n",
      "Song 14: \"Be With You\"\n",
      "Song 15: \"Ghetto (remix)\"\n",
      "Song 16: \"Freedom\"\n",
      "Song 17: \"Cashin Out\"\n",
      "Song 18: \"Gangsta Bop\"\n",
      "Song 19: \"Dirty Work\"\n",
      "Song 20: \"I Can’t Wait\"\n",
      "\n",
      "Reached user-specified song limit (20).\n",
      "Done. Found 20 songs.\n",
      "[Song(id, artist, ...), Song(id, artist, ...), Song(id, artist, ...), Song(id, artist, ...), Song(id, artist, ...), Song(id, artist, ...), Song(id, artist, ...), Song(id, artist, ...), Song(id, artist, ...), Song(id, artist, ...), Song(id, artist, ...), Song(id, artist, ...), Song(id, artist, ...), Song(id, artist, ...), Song(id, artist, ...), Song(id, artist, ...), Song(id, artist, ...), Song(id, artist, ...), Song(id, artist, ...), Song(id, artist, ...)]\n",
      "Wrote Lyrics_Akon.json.\n"
     ]
    }
   ],
   "source": [
    "artist = genius.search_artist('Akon', max_songs=20, include_features=False)\n",
    "print(artist.songs)\n",
    "artist.save_lyrics() "
   ]
  },
  {
   "cell_type": "markdown",
   "id": "37a1b030-967b-4337-8a97-46583c3c7d48",
   "metadata": {},
   "source": [
    "#### Big Daddy Swolls"
   ]
  },
  {
   "cell_type": "code",
   "execution_count": 25,
   "id": "9e8b8962-96ba-4d2a-9f5d-9196be7402dc",
   "metadata": {},
   "outputs": [
    {
     "name": "stdout",
     "output_type": "stream",
     "text": [
      "Searching for songs by Big Daddy Swolls...\n",
      "\n",
      "Changing artist name to 'BIG DADDY SWOLLS'\n",
      "Song 1: \"Mary Go Round\"\n",
      "Song 2: \"BURN UP\"\n",
      "Song 3: \"Get With This Remix\"\n",
      "Song 4: \"Roll It Back\"\n",
      "Song 5: \"Get With This\"\n",
      "Song 6: \"GO\"\n",
      "Song 7: \"Summertime\"\n",
      "Done. Found 7 songs.\n",
      "[Song(id, artist, ...), Song(id, artist, ...), Song(id, artist, ...), Song(id, artist, ...), Song(id, artist, ...), Song(id, artist, ...), Song(id, artist, ...)]\n",
      "Wrote Lyrics_BIGDADDYSWOLLS.json.\n"
     ]
    }
   ],
   "source": [
    "artist = genius.search_artist('Big Daddy Swolls', max_songs=20, include_features=False)\n",
    "print(artist.songs)\n",
    "artist.save_lyrics() "
   ]
  },
  {
   "cell_type": "markdown",
   "id": "06dcdfeb-5d19-4cdb-911a-e955364159af",
   "metadata": {},
   "source": [
    "#### Soulja Boy"
   ]
  },
  {
   "cell_type": "code",
   "execution_count": 26,
   "id": "2e3a13d4-8162-4cdc-9920-1ec77f096b19",
   "metadata": {},
   "outputs": [
    {
     "name": "stdout",
     "output_type": "stream",
     "text": [
      "Searching for songs by Soulja Boy...\n",
      "\n",
      "Song 1: \"Crank That (Soulja Boy)\"\n",
      "Song 2: \"Kiss Me Thru the Phone\"\n",
      "Song 3: \"Pretty Boy Swag\"\n",
      "Song 4: \"Turn My Swag On\"\n",
      "Song 5: \"Phone Call\"\n",
      "Song 6: \"Beef (Quavo Diss)\"\n",
      "Song 7: \"Wuzhannanan\"\n",
      "Song 8: \"Rick & Morty\"\n",
      "Song 9: \"Bapes\"\n",
      "Song 10: \"Zan With That Lean\"\n",
      "Song 11: \"She Make It Clap\"\n",
      "Song 12: \"Hey You There\"\n",
      "Song 13: \"Yahhh!\"\n",
      "Song 14: \"Ugly\"\n",
      "Song 15: \"New Drip\"\n",
      "Song 16: \"Whippin My Wrist\"\n",
      "Song 17: \"Say she luv me\"\n",
      "Song 18: \"Crank Dat\"\n",
      "Song 19: \"Let’s Be Real\"\n",
      "Song 20: \"Blowing Me Kisses\"\n",
      "\n",
      "Reached user-specified song limit (20).\n",
      "Done. Found 20 songs.\n",
      "[Song(id, artist, ...), Song(id, artist, ...), Song(id, artist, ...), Song(id, artist, ...), Song(id, artist, ...), Song(id, artist, ...), Song(id, artist, ...), Song(id, artist, ...), Song(id, artist, ...), Song(id, artist, ...), Song(id, artist, ...), Song(id, artist, ...), Song(id, artist, ...), Song(id, artist, ...), Song(id, artist, ...), Song(id, artist, ...), Song(id, artist, ...), Song(id, artist, ...), Song(id, artist, ...), Song(id, artist, ...)]\n",
      "Wrote Lyrics_SouljaBoy.json.\n"
     ]
    }
   ],
   "source": [
    "artist = genius.search_artist('Soulja Boy', max_songs=20, include_features=False)\n",
    "print(artist.songs)\n",
    "artist.save_lyrics() "
   ]
  },
  {
   "cell_type": "markdown",
   "id": "7cf36345-bf60-4403-a874-66062e179ae5",
   "metadata": {},
   "source": [
    "#### Gucci Mane "
   ]
  },
  {
   "cell_type": "code",
   "execution_count": 28,
   "id": "1e4a2777-3f52-491f-867b-cefc5967b721",
   "metadata": {},
   "outputs": [
    {
     "name": "stdout",
     "output_type": "stream",
     "text": [
      "Searching for songs by Gucci Mane...\n",
      "\n",
      "Song 1: \"I Get the Bag\"\n",
      "Song 2: \"Both\"\n",
      "Song 3: \"Lemonade\"\n",
      "Song 4: \"Curve\"\n",
      "Song 5: \"Met Gala\"\n",
      "Song 6: \"Truth\"\n",
      "Song 7: \"Nothin On Ya\"\n",
      "Song 8: \"Traphouse 3\"\n",
      "Song 9: \"St. Brick Intro\"\n",
      "Song 10: \"Pussy Print\"\n",
      "Song 11: \"Last Time\"\n",
      "Song 12: \"I Think I Love Her\"\n",
      "Song 13: \"I Heard\"\n",
      "Song 14: \"1st Day out Tha Feds\"\n",
      "Song 15: \"Drove U Crazy\"\n",
      "Song 16: \"Off the Leash\"\n",
      "Song 17: \"Both Eyes Closed\"\n",
      "Song 18: \"Rumors\"\n",
      "Song 19: \"Both (Remix)\"\n",
      "Song 20: \"Wasted\"\n",
      "\n",
      "Reached user-specified song limit (20).\n",
      "Done. Found 20 songs.\n",
      "[Song(id, artist, ...), Song(id, artist, ...), Song(id, artist, ...), Song(id, artist, ...), Song(id, artist, ...), Song(id, artist, ...), Song(id, artist, ...), Song(id, artist, ...), Song(id, artist, ...), Song(id, artist, ...), Song(id, artist, ...), Song(id, artist, ...), Song(id, artist, ...), Song(id, artist, ...), Song(id, artist, ...), Song(id, artist, ...), Song(id, artist, ...), Song(id, artist, ...), Song(id, artist, ...), Song(id, artist, ...)]\n",
      "Wrote Lyrics_GucciMane.json.\n"
     ]
    }
   ],
   "source": [
    "artist = genius.search_artist('Gucci Mane', max_songs=20, include_features=False)\n",
    "print(artist.songs)\n",
    "artist.save_lyrics() "
   ]
  },
  {
   "cell_type": "markdown",
   "id": "7af029eb-4315-442d-b4ab-94774fc10f4a",
   "metadata": {},
   "source": [
    "#### Yo Gotti"
   ]
  },
  {
   "cell_type": "code",
   "execution_count": 29,
   "id": "5cd4e96e-18da-4e04-8f2f-857b36e4562b",
   "metadata": {},
   "outputs": [
    {
     "name": "stdout",
     "output_type": "stream",
     "text": [
      "Searching for songs by Yo Gotti...\n",
      "\n",
      "Song 1: \"Rake It Up\"\n",
      "Song 2: \"Down in the DM\"\n",
      "Song 3: \"Down in the DM (Remix)\"\n",
      "Song 4: \"Juice\"\n",
      "Song 5: \"Act Right\"\n",
      "Song 6: \"I Know\"\n",
      "Song 7: \"Errrbody\"\n",
      "Song 8: \"Cold Blood\"\n",
      "Song 9: \"Law\"\n",
      "Song 10: \"Rihanna\"\n",
      "Song 11: \"Castro\"\n",
      "Song 12: \"F-U (Fuck You)\"\n",
      "Song 13: \"Put a Date on It\"\n",
      "Song 14: \"They Like\"\n",
      "Song 15: \"5 Star (Remix)\"\n",
      "Song 16: \"Fuck Em\"\n",
      "Song 17: \"King Shit\"\n",
      "Song 18: \"Errrbody (Remix)\"\n",
      "Song 19: \"Sorry\"\n",
      "Song 20: \"Pose\"\n",
      "\n",
      "Reached user-specified song limit (20).\n",
      "Done. Found 20 songs.\n",
      "[Song(id, artist, ...), Song(id, artist, ...), Song(id, artist, ...), Song(id, artist, ...), Song(id, artist, ...), Song(id, artist, ...), Song(id, artist, ...), Song(id, artist, ...), Song(id, artist, ...), Song(id, artist, ...), Song(id, artist, ...), Song(id, artist, ...), Song(id, artist, ...), Song(id, artist, ...), Song(id, artist, ...), Song(id, artist, ...), Song(id, artist, ...), Song(id, artist, ...), Song(id, artist, ...), Song(id, artist, ...)]\n",
      "Wrote Lyrics_YoGotti.json.\n"
     ]
    }
   ],
   "source": [
    "artist = genius.search_artist('Yo Gotti', max_songs=20, include_features=False)\n",
    "print(artist.songs)\n",
    "artist.save_lyrics() "
   ]
  },
  {
   "cell_type": "markdown",
   "id": "5aba8e01-211e-4d4b-b4b1-21187f97dd56",
   "metadata": {},
   "source": [
    "#### Don Dinero"
   ]
  },
  {
   "cell_type": "code",
   "execution_count": 30,
   "id": "f9ea0343-020c-4956-8079-eaf430ddabe0",
   "metadata": {},
   "outputs": [
    {
     "name": "stdout",
     "output_type": "stream",
     "text": [
      "Searching for songs by Don Dinero...\n",
      "\n",
      "Song 1: \"Yo No Se\"\n",
      "Song 2: \"Pana Pana\"\n",
      "Song 3: \"Desahogo Del Alma\"\n",
      "Done. Found 3 songs.\n",
      "[Song(id, artist, ...), Song(id, artist, ...), Song(id, artist, ...)]\n",
      "Wrote Lyrics_DonDinero.json.\n"
     ]
    }
   ],
   "source": [
    "artist = genius.search_artist('Don Dinero', max_songs=20, include_features=False)\n",
    "print(artist.songs)\n",
    "artist.save_lyrics() "
   ]
  },
  {
   "cell_type": "markdown",
   "id": "f1865dc4-60aa-4606-9e6f-41067e6b4337",
   "metadata": {},
   "source": [
    "## Not Similar Artists"
   ]
  },
  {
   "cell_type": "markdown",
   "id": "9ef92441-4977-40e6-a562-2178421d2ed6",
   "metadata": {},
   "source": [
    "#### Katy Perry"
   ]
  },
  {
   "cell_type": "code",
   "execution_count": 34,
   "id": "be0fb1fc-717e-493d-8b24-44e487b9eeab",
   "metadata": {},
   "outputs": [
    {
     "name": "stdout",
     "output_type": "stream",
     "text": [
      "Searching for songs by Katy Perry...\n",
      "\n",
      "Song 1: \"Swish Swish\"\n",
      "Song 2: \"Dark Horse\"\n",
      "Song 3: \"Chained to the Rhythm\"\n",
      "Song 4: \"Firework\"\n",
      "Song 5: \"The One That Got Away\"\n",
      "Song 6: \"Bon Appétit\"\n",
      "Song 7: \"Roar\"\n",
      "Song 8: \"Never Really Over\"\n",
      "Song 9: \"I Kissed a Girl\"\n",
      "Song 10: \"California Gurls\"\n",
      "Song 11: \"E.T. (Remix)\"\n",
      "Song 12: \"Rise\"\n",
      "Song 13: \"Hot N Cold\"\n",
      "Song 14: \"Teenage Dream\"\n",
      "Song 15: \"Last Friday Night (T.G.I.F.)\"\n",
      "Song 16: \"Smile\"\n",
      "Song 17: \"Daisies\"\n",
      "Song 18: \"E.T.\"\n",
      "Song 19: \"Witness\"\n",
      "Song 20: \"Harleys In Hawaii\"\n",
      "\n",
      "Reached user-specified song limit (20).\n",
      "Done. Found 20 songs.\n",
      "[Song(id, artist, ...), Song(id, artist, ...), Song(id, artist, ...), Song(id, artist, ...), Song(id, artist, ...), Song(id, artist, ...), Song(id, artist, ...), Song(id, artist, ...), Song(id, artist, ...), Song(id, artist, ...), Song(id, artist, ...), Song(id, artist, ...), Song(id, artist, ...), Song(id, artist, ...), Song(id, artist, ...), Song(id, artist, ...), Song(id, artist, ...), Song(id, artist, ...), Song(id, artist, ...), Song(id, artist, ...)]\n",
      "Wrote Lyrics_KatyPerry.json.\n"
     ]
    }
   ],
   "source": [
    "artist = genius.search_artist('Katy Perry', max_songs=20, include_features=False)\n",
    "print(artist.songs)\n",
    "artist.save_lyrics() "
   ]
  },
  {
   "cell_type": "markdown",
   "id": "db6ee81c-ca82-41eb-bb7e-e9b3751a31cb",
   "metadata": {},
   "source": [
    "#### Taylor Swift "
   ]
  },
  {
   "cell_type": "code",
   "execution_count": 38,
   "id": "8a2dd9b1-42e0-45cd-9e86-f1bee57dacc9",
   "metadata": {},
   "outputs": [
    {
     "name": "stdout",
     "output_type": "stream",
     "text": [
      "Searching for songs by Taylor Swift...\n",
      "\n",
      "Song 1: \"All Too Well (10 Minute Version) (Taylor’s Version) [From the Vault]\"\n",
      "Song 2: \"All Too Well (10 Minute Version) (Taylor’s Version) [Live Acoustic]\"\n",
      "Song 3: \"​cardigan\"\n",
      "Song 4: \"​exile\"\n",
      "Song 5: \"Lover\"\n",
      "Song 6: \"​the 1\"\n",
      "Song 7: \"​august\"\n",
      "Song 8: \"Look What You Made Me Do\"\n",
      "Song 9: \"​betty\"\n",
      "Song 10: \"​champagne problems\"\n",
      "Song 11: \"Blank Space\"\n",
      "Song 12: \"Anti-Hero\"\n",
      "Song 13: \"End Game\"\n",
      "Song 14: \"​my tears ricochet\"\n",
      "Song 15: \"You Need To Calm Down\"\n",
      "Song 16: \"Cruel Summer\"\n",
      "Song 17: \"​willow\"\n",
      "Song 18: \"...Ready for It?\"\n",
      "Song 19: \"ME!\"\n",
      "Song 20: \"Style\"\n",
      "\n",
      "Reached user-specified song limit (20).\n",
      "Done. Found 20 songs.\n",
      "[Song(id, artist, ...), Song(id, artist, ...), Song(id, artist, ...), Song(id, artist, ...), Song(id, artist, ...), Song(id, artist, ...), Song(id, artist, ...), Song(id, artist, ...), Song(id, artist, ...), Song(id, artist, ...), Song(id, artist, ...), Song(id, artist, ...), Song(id, artist, ...), Song(id, artist, ...), Song(id, artist, ...), Song(id, artist, ...), Song(id, artist, ...), Song(id, artist, ...), Song(id, artist, ...), Song(id, artist, ...)]\n",
      "Wrote Lyrics_TaylorSwift.json.\n"
     ]
    }
   ],
   "source": [
    "artist = genius.search_artist('Taylor Swift', max_songs=20, include_features=False)\n",
    "print(artist.songs)\n",
    "artist.save_lyrics() "
   ]
  },
  {
   "cell_type": "markdown",
   "id": "a272561b-ec0f-42d0-a9fd-8bf8c6f44d67",
   "metadata": {},
   "source": [
    "#### Kesha "
   ]
  },
  {
   "cell_type": "code",
   "execution_count": 40,
   "id": "a65a81f1-cc68-4cab-a8ac-f1b153896c45",
   "metadata": {},
   "outputs": [
    {
     "name": "stdout",
     "output_type": "stream",
     "text": [
      "Searching for songs by Kesha...\n",
      "\n",
      "Song 1: \"Praying\"\n",
      "Song 2: \"TiK ToK\"\n",
      "Song 3: \"Cannibal\"\n",
      "Song 4: \"Woman\"\n",
      "Song 5: \"Die Young\"\n",
      "Song 6: \"Rainbow\"\n",
      "Song 7: \"Learn to Let Go\"\n",
      "Song 8: \"Take It Off\"\n",
      "Song 9: \"Your Love is My Drug\"\n",
      "Song 10: \"This is Me\"\n",
      "Song 11: \"Backstabber\"\n",
      "Song 12: \"Raising Hell\"\n",
      "Song 13: \"Hymn\"\n",
      "Song 14: \"Sleazy (Remix 2.0) - Get Sleazier\"\n",
      "Song 15: \"Grow a Pear\"\n",
      "Song 16: \"Blow\"\n",
      "Song 17: \"Spaceship\"\n",
      "Song 18: \"Bastards\"\n",
      "Song 19: \"Resentment\"\n",
      "Song 20: \"Blah Blah Blah\"\n",
      "\n",
      "Reached user-specified song limit (20).\n",
      "Done. Found 20 songs.\n",
      "[Song(id, artist, ...), Song(id, artist, ...), Song(id, artist, ...), Song(id, artist, ...), Song(id, artist, ...), Song(id, artist, ...), Song(id, artist, ...), Song(id, artist, ...), Song(id, artist, ...), Song(id, artist, ...), Song(id, artist, ...), Song(id, artist, ...), Song(id, artist, ...), Song(id, artist, ...), Song(id, artist, ...), Song(id, artist, ...), Song(id, artist, ...), Song(id, artist, ...), Song(id, artist, ...), Song(id, artist, ...)]\n",
      "Wrote Lyrics_Kesha.json.\n"
     ]
    }
   ],
   "source": [
    "artist = genius.search_artist('Kesha', max_songs=20, include_features=False)\n",
    "print(artist.songs)\n",
    "artist.save_lyrics() "
   ]
  },
  {
   "cell_type": "markdown",
   "id": "923ba992-cea5-4fad-b45e-fcf55803935e",
   "metadata": {},
   "source": [
    "#### Bad Bunny "
   ]
  },
  {
   "cell_type": "code",
   "execution_count": 41,
   "id": "ed5651f6-82d9-46f4-b9da-e127de1a2891",
   "metadata": {},
   "outputs": [
    {
     "name": "stdout",
     "output_type": "stream",
     "text": [
      "Searching for songs by Bad Bunny...\n",
      "\n",
      "Song 1: \"Amorfoda\"\n",
      "Song 2: \"Tú No Metes Cabra\"\n",
      "Song 3: \"Yonaguni\"\n",
      "Song 4: \"MIA\"\n",
      "Song 5: \"Chambea\"\n",
      "Song 6: \"Soy Peor\"\n",
      "Song 7: \"Si Veo a Tu Mamá\"\n",
      "Song 8: \"Tití Me Preguntó\"\n",
      "Song 9: \"Tú No Metes Cabra (Remix)\"\n",
      "Song 10: \"Vete\"\n",
      "Song 11: \"Estamos Bien\"\n",
      "Song 12: \"Yo Perreo Sola\"\n",
      "Song 13: \"25/8\"\n",
      "Song 14: \"La Difícil\"\n",
      "Song 15: \"Dime Si Te Acuerdas\"\n",
      "Song 16: \"Otra Noche en Miami\"\n",
      "Song 17: \"Moscow Mule\"\n",
      "Song 18: \"BOOKER T\"\n",
      "Song 19: \"La Romana\"\n",
      "Song 20: \"HACIENDO QUE ME AMAS\"\n",
      "\n",
      "Reached user-specified song limit (20).\n",
      "Done. Found 20 songs.\n",
      "[Song(id, artist, ...), Song(id, artist, ...), Song(id, artist, ...), Song(id, artist, ...), Song(id, artist, ...), Song(id, artist, ...), Song(id, artist, ...), Song(id, artist, ...), Song(id, artist, ...), Song(id, artist, ...), Song(id, artist, ...), Song(id, artist, ...), Song(id, artist, ...), Song(id, artist, ...), Song(id, artist, ...), Song(id, artist, ...), Song(id, artist, ...), Song(id, artist, ...), Song(id, artist, ...), Song(id, artist, ...)]\n",
      "Wrote Lyrics_BadBunny.json.\n"
     ]
    }
   ],
   "source": [
    "artist = genius.search_artist('Bad Bunny', max_songs=20, include_features=False)\n",
    "print(artist.songs)\n",
    "artist.save_lyrics() "
   ]
  },
  {
   "cell_type": "markdown",
   "id": "28486317-e93c-410f-a63e-2017680d102d",
   "metadata": {},
   "source": [
    "#### Shakira"
   ]
  },
  {
   "cell_type": "code",
   "execution_count": 42,
   "id": "15748c62-735c-4e95-b069-ec28bde281d7",
   "metadata": {},
   "outputs": [
    {
     "name": "stdout",
     "output_type": "stream",
     "text": [
      "Searching for songs by Shakira...\n",
      "\n",
      "Song 1: \"Hips Don’t Lie\"\n",
      "Song 2: \"Waka Waka (This Time for Africa)\"\n",
      "Song 3: \"Chantaje\"\n",
      "Song 4: \"Can’t Remember to Forget You\"\n",
      "Song 5: \"Whenever, Wherever\"\n",
      "Song 6: \"She Wolf\"\n",
      "Song 7: \"La La La (Brazil 2014)\"\n",
      "Song 8: \"Me Enamoré\"\n",
      "Song 9: \"Try Everything\"\n",
      "Song 10: \"Loca (English Version)\"\n",
      "Song 11: \"Suerte (Whenever, Wherever)\"\n",
      "Song 12: \"La Tortura\"\n",
      "Song 13: \"Clandestino\"\n",
      "Song 14: \"Rabiosa\"\n",
      "Song 15: \"Te Aviso, Te Anuncio (Tango)\"\n",
      "Song 16: \"Waka Waka (Esto es África)\"\n",
      "Song 17: \"Trap\"\n",
      "Song 18: \"Ojos Así\"\n",
      "Song 19: \"Perro Fiel\"\n",
      "Song 20: \"Rabiosa (English Version)\"\n",
      "\n",
      "Reached user-specified song limit (20).\n",
      "Done. Found 20 songs.\n",
      "[Song(id, artist, ...), Song(id, artist, ...), Song(id, artist, ...), Song(id, artist, ...), Song(id, artist, ...), Song(id, artist, ...), Song(id, artist, ...), Song(id, artist, ...), Song(id, artist, ...), Song(id, artist, ...), Song(id, artist, ...), Song(id, artist, ...), Song(id, artist, ...), Song(id, artist, ...), Song(id, artist, ...), Song(id, artist, ...), Song(id, artist, ...), Song(id, artist, ...), Song(id, artist, ...), Song(id, artist, ...)]\n",
      "Wrote Lyrics_Shakira.json.\n"
     ]
    }
   ],
   "source": [
    "artist = genius.search_artist('Shakira', max_songs=20, include_features=False)\n",
    "print(artist.songs)\n",
    "artist.save_lyrics() "
   ]
  },
  {
   "cell_type": "markdown",
   "id": "73387bf6-7f48-41d3-80b5-db0f87a58fa8",
   "metadata": {},
   "source": [
    "#### Luis Fonsi "
   ]
  },
  {
   "cell_type": "code",
   "execution_count": 44,
   "id": "06215ef1-5a1a-48f9-8153-83650fa18160",
   "metadata": {},
   "outputs": [
    {
     "name": "stdout",
     "output_type": "stream",
     "text": [
      "Searching for songs by Luis Fonsi...\n",
      "\n",
      "Song 1: \"Despacito\"\n",
      "Song 2: \"Sola (English Version)\"\n",
      "Song 3: \"Despacito 緩緩 (Mandarin Version)\"\n",
      "Song 4: \"Despacito (Versión Pop)\"\n",
      "Song 5: \"No Me Doy por Vencido\"\n",
      "Song 6: \"Sola\"\n",
      "Song 7: \"Despacito (Versión Salsa)\"\n",
      "Song 8: \"Llegaste Tú\"\n",
      "Song 9: \"Calypso (Remix)\"\n",
      "Song 10: \"Aquí Estoy Yo\"\n",
      "Song 11: \"Corazón en la Maleta\"\n",
      "Song 12: \"Poco A Poco\"\n",
      "Song 13: \"Le Pido al Cielo\"\n",
      "Song 14: \"Girasoles\"\n",
      "Song 15: \"Sway\"\n",
      "Song 16: \"Buenos Aires\"\n",
      "Song 17: \"Ahí Estás Tú\"\n",
      "Song 18: \"Mi Eterno Amor Secreto\"\n",
      "Song 19: \"Más Fuerte Que Yo\"\n",
      "Song 20: \"Apaga La Luz\"\n",
      "\n",
      "Reached user-specified song limit (20).\n",
      "Done. Found 20 songs.\n",
      "[Song(id, artist, ...), Song(id, artist, ...), Song(id, artist, ...), Song(id, artist, ...), Song(id, artist, ...), Song(id, artist, ...), Song(id, artist, ...), Song(id, artist, ...), Song(id, artist, ...), Song(id, artist, ...), Song(id, artist, ...), Song(id, artist, ...), Song(id, artist, ...), Song(id, artist, ...), Song(id, artist, ...), Song(id, artist, ...), Song(id, artist, ...), Song(id, artist, ...), Song(id, artist, ...), Song(id, artist, ...)]\n",
      "Wrote Lyrics_LuisFonsi.json.\n"
     ]
    }
   ],
   "source": [
    "artist = genius.search_artist('Luis Fonsi', max_songs=20, include_features=False)\n",
    "print(artist.songs)\n",
    "artist.save_lyrics() "
   ]
  },
  {
   "cell_type": "markdown",
   "id": "542798e8-18bc-4e38-98d4-18bdb5c67751",
   "metadata": {},
   "source": [
    "#### Daddy Yankee "
   ]
  },
  {
   "cell_type": "code",
   "execution_count": 45,
   "id": "930c1c2b-39b7-4246-bd71-24974f6afe4e",
   "metadata": {},
   "outputs": [
    {
     "name": "stdout",
     "output_type": "stream",
     "text": [
      "Searching for songs by Daddy Yankee...\n",
      "\n",
      "Song 1: \"Gasolina\"\n",
      "Song 2: \"Dura (Remix)\"\n",
      "Song 3: \"Con Calma\"\n",
      "Song 4: \"Dura\"\n",
      "Song 5: \"Shaky Shaky\"\n",
      "Song 6: \"Gasolina (Remix)\"\n",
      "Song 7: \"La Rompe Corazones\"\n",
      "Song 8: \"Lo Que Pasó, Pasó\"\n",
      "Song 9: \"Somos De Calle (Remix)\"\n",
      "Song 10: \"Que Tire Pa Lante\"\n",
      "Song 11: \"Limbo\"\n",
      "Song 12: \"Llegamos a la Disco\"\n",
      "Song 13: \"Hielo\"\n",
      "Song 14: \"Rompe\"\n",
      "Song 15: \"Yo Nunca Me Quedo Atras\"\n",
      "Song 16: \"Vaivén\"\n",
      "Song 17: \"Ella Me Levantó\"\n",
      "Song 18: \"Somos de Calle\"\n",
      "Song 19: \"Ven Conmigo\"\n",
      "Song 20: \"Llamado de Emergencia\"\n",
      "\n",
      "Reached user-specified song limit (20).\n",
      "Done. Found 20 songs.\n",
      "[Song(id, artist, ...), Song(id, artist, ...), Song(id, artist, ...), Song(id, artist, ...), Song(id, artist, ...), Song(id, artist, ...), Song(id, artist, ...), Song(id, artist, ...), Song(id, artist, ...), Song(id, artist, ...), Song(id, artist, ...), Song(id, artist, ...), Song(id, artist, ...), Song(id, artist, ...), Song(id, artist, ...), Song(id, artist, ...), Song(id, artist, ...), Song(id, artist, ...), Song(id, artist, ...), Song(id, artist, ...)]\n",
      "Wrote Lyrics_DaddyYankee.json.\n"
     ]
    }
   ],
   "source": [
    "artist = genius.search_artist('Daddy Yankee', max_songs=20, include_features=False)\n",
    "print(artist.songs)\n",
    "artist.save_lyrics() "
   ]
  },
  {
   "cell_type": "markdown",
   "id": "1bd85e87-6983-4671-ac48-49e3c1b27bdc",
   "metadata": {},
   "source": [
    "#### Britney Spears"
   ]
  },
  {
   "cell_type": "code",
   "execution_count": 49,
   "id": "7918eb44-13f5-4bdf-b92e-283cc9bef65d",
   "metadata": {},
   "outputs": [
    {
     "name": "stdout",
     "output_type": "stream",
     "text": [
      "Searching for songs by Britney Spears...\n",
      "\n",
      "Song 1: \"...Baby One More Time\"\n",
      "Song 2: \"Toxic\"\n",
      "Song 3: \"Work Bitch\"\n",
      "Song 4: \"Oops!... I Did It Again\"\n",
      "Song 5: \"If U Seek Amy\"\n",
      "Song 6: \"Make Me...\"\n",
      "Song 7: \"Lucky\"\n",
      "Song 8: \"Everytime\"\n",
      "Song 9: \"Gimme More\"\n",
      "Song 10: \"Womanizer\"\n",
      "Song 11: \"3\"\n",
      "Song 12: \"Criminal\"\n",
      "Song 13: \"Circus\"\n",
      "Song 14: \"Piece of Me\"\n",
      "Song 15: \"I’m a Slave 4 U\"\n",
      "Song 16: \"Slumber Party\"\n",
      "Song 17: \"Sometimes\"\n",
      "Song 18: \"Till the World Ends (The Femme Fatale Remix)\"\n",
      "Song 19: \"Man On the Moon\"\n",
      "Song 20: \"Coupure Électrique\"\n",
      "\n",
      "Reached user-specified song limit (20).\n",
      "Done. Found 20 songs.\n",
      "[Song(id, artist, ...), Song(id, artist, ...), Song(id, artist, ...), Song(id, artist, ...), Song(id, artist, ...), Song(id, artist, ...), Song(id, artist, ...), Song(id, artist, ...), Song(id, artist, ...), Song(id, artist, ...), Song(id, artist, ...), Song(id, artist, ...), Song(id, artist, ...), Song(id, artist, ...), Song(id, artist, ...), Song(id, artist, ...), Song(id, artist, ...), Song(id, artist, ...), Song(id, artist, ...), Song(id, artist, ...)]\n",
      "Wrote Lyrics_BritneySpears.json.\n"
     ]
    }
   ],
   "source": [
    "artist = genius.search_artist('Britney Spears', max_songs=20, include_features=False)\n",
    "print(artist.songs)\n",
    "artist.save_lyrics() "
   ]
  },
  {
   "cell_type": "markdown",
   "id": "98d17fb1-0f9f-41bf-96c2-717532e94f0b",
   "metadata": {},
   "source": [
    "#### Ed Sheeran "
   ]
  },
  {
   "cell_type": "code",
   "execution_count": 51,
   "id": "ee0f91b2-4452-4824-a4fc-5b9d62cc50dd",
   "metadata": {},
   "outputs": [
    {
     "name": "stdout",
     "output_type": "stream",
     "text": [
      "Searching for songs by Ed Sheeran...\n",
      "\n",
      "Song 1: \"Shape of You\"\n",
      "Song 2: \"Perfect\"\n",
      "Song 3: \"Castle on the Hill\"\n",
      "Song 4: \"Happier\"\n",
      "Song 5: \"Thinking Out Loud\"\n",
      "Song 6: \"Supermarket Flowers\"\n",
      "Song 7: \"Galway Girl\"\n",
      "Song 8: \"Photograph\"\n",
      "Song 9: \"Dive\"\n",
      "Song 10: \"Don’t\"\n",
      "Song 11: \"Bad Habits\"\n",
      "Song 12: \"The A Team\"\n",
      "Song 13: \"South of the Border\"\n",
      "Song 14: \"I See Fire\"\n",
      "Song 15: \"Beautiful People\"\n",
      "Song 16: \"Eraser\"\n",
      "Song 17: \"Remember the Name\"\n",
      "Song 18: \"Afterglow\"\n",
      "Song 19: \"New Man\"\n",
      "Song 20: \"How Would You Feel (Paean)\"\n",
      "\n",
      "Reached user-specified song limit (20).\n",
      "Done. Found 20 songs.\n",
      "[Song(id, artist, ...), Song(id, artist, ...), Song(id, artist, ...), Song(id, artist, ...), Song(id, artist, ...), Song(id, artist, ...), Song(id, artist, ...), Song(id, artist, ...), Song(id, artist, ...), Song(id, artist, ...), Song(id, artist, ...), Song(id, artist, ...), Song(id, artist, ...), Song(id, artist, ...), Song(id, artist, ...), Song(id, artist, ...), Song(id, artist, ...), Song(id, artist, ...), Song(id, artist, ...), Song(id, artist, ...)]\n",
      "Wrote Lyrics_EdSheeran.json.\n"
     ]
    }
   ],
   "source": [
    "artist = genius.search_artist('Ed Sheeran', max_songs=20, include_features=False)\n",
    "print(artist.songs)\n",
    "artist.save_lyrics() "
   ]
  },
  {
   "cell_type": "markdown",
   "id": "2a1cb606-fae5-4fd9-bcd7-107bb2243eec",
   "metadata": {},
   "source": [
    "#### The Weeknd"
   ]
  },
  {
   "cell_type": "code",
   "execution_count": 52,
   "id": "660cd61b-c027-4f91-bb79-cdf02944e27e",
   "metadata": {},
   "outputs": [
    {
     "name": "stdout",
     "output_type": "stream",
     "text": [
      "Searching for songs by The Weeknd...\n",
      "\n",
      "Song 1: \"The Hills\"\n",
      "Song 2: \"Starboy\"\n",
      "Song 3: \"Can’t Feel My Face\"\n",
      "Song 4: \"Reminder\"\n",
      "Song 5: \"Call Out My Name\"\n",
      "Song 6: \"Die For You\"\n",
      "Song 7: \"Blinding Lights\"\n",
      "Song 8: \"Often\"\n",
      "Song 9: \"Heartless\"\n",
      "Song 10: \"I Feel It Coming\"\n",
      "Song 11: \"Wicked Games\"\n",
      "Song 12: \"After Hours\"\n",
      "Song 13: \"Party Monster\"\n",
      "Song 14: \"Save Your Tears\"\n",
      "Song 15: \"Earned It\"\n",
      "Song 16: \"Sidewalks\"\n",
      "Song 17: \"Wasted Times\"\n",
      "Song 18: \"Tell Your Friends\"\n",
      "Song 19: \"Montreal\"\n",
      "Song 20: \"The Morning\"\n",
      "\n",
      "Reached user-specified song limit (20).\n",
      "Done. Found 20 songs.\n",
      "[Song(id, artist, ...), Song(id, artist, ...), Song(id, artist, ...), Song(id, artist, ...), Song(id, artist, ...), Song(id, artist, ...), Song(id, artist, ...), Song(id, artist, ...), Song(id, artist, ...), Song(id, artist, ...), Song(id, artist, ...), Song(id, artist, ...), Song(id, artist, ...), Song(id, artist, ...), Song(id, artist, ...), Song(id, artist, ...), Song(id, artist, ...), Song(id, artist, ...), Song(id, artist, ...), Song(id, artist, ...)]\n",
      "Wrote Lyrics_TheWeeknd.json.\n"
     ]
    }
   ],
   "source": [
    "artist = genius.search_artist('The Weeknd', max_songs=20, include_features=False)\n",
    "print(artist.songs)\n",
    "artist.save_lyrics() "
   ]
  },
  {
   "cell_type": "markdown",
   "id": "db38ed88-3042-428a-ae1d-6e9a95d6e7e7",
   "metadata": {},
   "source": [
    "#### Drake"
   ]
  },
  {
   "cell_type": "code",
   "execution_count": 60,
   "id": "a8d590b4-e399-4f28-a552-706c08220137",
   "metadata": {},
   "outputs": [
    {
     "name": "stdout",
     "output_type": "stream",
     "text": [
      "Searching for songs by Drake...\n",
      "\n",
      "Song 1: \"God’s Plan\"\n",
      "Song 2: \"In My Feelings\"\n",
      "Song 3: \"Hotline Bling\"\n",
      "Song 4: \"One Dance\"\n",
      "Song 5: \"Hold On, We’re Going Home\"\n",
      "Song 6: \"Know Yourself\"\n",
      "Song 7: \"Back to Back\"\n",
      "Song 8: \"All Me\"\n",
      "Song 9: \"From Time\"\n",
      "Song 10: \"Fake Love\"\n",
      "Song 11: \"0 to 100 / The Catch Up\"\n",
      "Song 12: \"The Motto\"\n",
      "Song 13: \"Pound Cake / Paris Morton Music 2\"\n",
      "Song 14: \"Started from the Bottom\"\n",
      "Song 15: \"Marvins Room\"\n",
      "Song 16: \"HYFR (Hell Ya Fucking Right)\"\n",
      "Song 17: \"Passionfruit\"\n",
      "Song 18: \"Nice For What\"\n",
      "Song 19: \"Energy\"\n",
      "Song 20: \"Child’s Play\"\n",
      "\n",
      "Reached user-specified song limit (20).\n",
      "Done. Found 20 songs.\n",
      "[Song(id, artist, ...), Song(id, artist, ...), Song(id, artist, ...), Song(id, artist, ...), Song(id, artist, ...), Song(id, artist, ...), Song(id, artist, ...), Song(id, artist, ...), Song(id, artist, ...), Song(id, artist, ...), Song(id, artist, ...), Song(id, artist, ...), Song(id, artist, ...), Song(id, artist, ...), Song(id, artist, ...), Song(id, artist, ...), Song(id, artist, ...), Song(id, artist, ...), Song(id, artist, ...), Song(id, artist, ...)]\n",
      "Wrote Lyrics_Drake.json.\n"
     ]
    }
   ],
   "source": [
    "artist = genius.search_artist('Drake', max_songs=20, include_features=False)\n",
    "print(artist.songs)\n",
    "artist.save_lyrics() "
   ]
  },
  {
   "cell_type": "markdown",
   "id": "28f14c12-fcdf-4cc1-91cb-c1dcac583ce0",
   "metadata": {},
   "source": [
    "#### Justin Bieber "
   ]
  },
  {
   "cell_type": "code",
   "execution_count": 68,
   "id": "7157841d-cb40-42be-aa2c-d01d731c407f",
   "metadata": {},
   "outputs": [
    {
     "name": "stdout",
     "output_type": "stream",
     "text": [
      "Searching for songs by Justin Bieber...\n",
      "\n",
      "Song 1: \"Love Yourself\"\n",
      "Song 2: \"Baby\"\n",
      "Song 3: \"Sorry\"\n",
      "Song 4: \"Yummy\"\n",
      "Song 5: \"As Long As You Love Me\"\n",
      "Song 6: \"Peaches\"\n",
      "Song 7: \"What Do You Mean?\"\n",
      "Song 8: \"Holy\"\n",
      "Song 9: \"Intentions\"\n",
      "Song 10: \"Confident\"\n",
      "Song 11: \"Beauty and a Beat\"\n",
      "Song 12: \"Mistletoe\"\n",
      "Song 13: \"Ghost\"\n",
      "Song 14: \"Anyone\"\n",
      "Song 15: \"I’ll Show You\"\n",
      "Song 16: \"Mark My Words\"\n",
      "Song 17: \"Purpose\"\n",
      "Song 18: \"Boyfriend\"\n",
      "Song 19: \"All That Matters\"\n",
      "Song 20: \"Company\"\n",
      "\n",
      "Reached user-specified song limit (20).\n",
      "Done. Found 20 songs.\n",
      "[Song(id, artist, ...), Song(id, artist, ...), Song(id, artist, ...), Song(id, artist, ...), Song(id, artist, ...), Song(id, artist, ...), Song(id, artist, ...), Song(id, artist, ...), Song(id, artist, ...), Song(id, artist, ...), Song(id, artist, ...), Song(id, artist, ...), Song(id, artist, ...), Song(id, artist, ...), Song(id, artist, ...), Song(id, artist, ...), Song(id, artist, ...), Song(id, artist, ...), Song(id, artist, ...), Song(id, artist, ...)]\n",
      "Wrote Lyrics_JustinBieber.json.\n"
     ]
    }
   ],
   "source": [
    "artist = genius.search_artist('Justin Bieber', max_songs=20, include_features=False)\n",
    "print(artist.songs)\n",
    "artist.save_lyrics() "
   ]
  },
  {
   "cell_type": "markdown",
   "id": "183ced0b-43d3-4d0c-9ee4-3972ade4df6f",
   "metadata": {},
   "source": [
    "#### Eminem"
   ]
  },
  {
   "cell_type": "code",
   "execution_count": 71,
   "id": "fb974d7c-2396-4387-80a4-24a37e7bab9d",
   "metadata": {},
   "outputs": [
    {
     "name": "stdout",
     "output_type": "stream",
     "text": [
      "Searching for songs by Eminem...\n",
      "\n",
      "Song 1: \"Rap God\"\n",
      "Song 2: \"Killshot\"\n",
      "Song 3: \"Lose Yourself\"\n",
      "Song 4: \"Godzilla\"\n",
      "Song 5: \"The Monster\"\n",
      "Song 6: \"Lucky You\"\n",
      "Song 7: \"The Ringer\"\n",
      "Song 8: \"Stan\"\n",
      "Song 9: \"Without Me\"\n",
      "Song 10: \"The Real Slim Shady\"\n",
      "Song 11: \"Venom\"\n",
      "Song 12: \"River\"\n",
      "Song 13: \"Not Alike\"\n",
      "Song 14: \"Berzerk\"\n",
      "Song 15: \"Fall\"\n",
      "Song 16: \"Mockingbird\"\n",
      "Song 17: \"’Till I Collapse\"\n",
      "Song 18: \"8 Mile: B-Rabbit vs Papa Doc\"\n",
      "Song 19: \"Love the Way You Lie\"\n",
      "Song 20: \"Kamikaze\"\n",
      "\n",
      "Reached user-specified song limit (20).\n",
      "Done. Found 20 songs.\n",
      "[Song(id, artist, ...), Song(id, artist, ...), Song(id, artist, ...), Song(id, artist, ...), Song(id, artist, ...), Song(id, artist, ...), Song(id, artist, ...), Song(id, artist, ...), Song(id, artist, ...), Song(id, artist, ...), Song(id, artist, ...), Song(id, artist, ...), Song(id, artist, ...), Song(id, artist, ...), Song(id, artist, ...), Song(id, artist, ...), Song(id, artist, ...), Song(id, artist, ...), Song(id, artist, ...), Song(id, artist, ...)]\n",
      "Wrote Lyrics_Eminem.json.\n"
     ]
    }
   ],
   "source": [
    "artist = genius.search_artist('Eminem', max_songs=20, include_features=False)\n",
    "print(artist.songs)\n",
    "artist.save_lyrics() "
   ]
  },
  {
   "cell_type": "markdown",
   "id": "1e48ba5c-5918-474e-9061-6efbd329e620",
   "metadata": {},
   "source": [
    "#### The Beatles"
   ]
  },
  {
   "cell_type": "code",
   "execution_count": 85,
   "id": "3d2e78e3-305a-4f58-a6e6-f3f044c76f33",
   "metadata": {},
   "outputs": [
    {
     "name": "stdout",
     "output_type": "stream",
     "text": [
      "Searching for songs by The Beatles...\n",
      "\n",
      "Song 1: \"Yesterday\"\n",
      "Song 2: \"Let It Be\"\n",
      "Song 3: \"Hey Jude\"\n",
      "Song 4: \"Come Together\"\n",
      "Song 5: \"Here Comes the Sun\"\n",
      "Song 6: \"Something\"\n",
      "Song 7: \"Eleanor Rigby\"\n",
      "Song 8: \"A Day in the Life\"\n",
      "Song 9: \"Blackbird\"\n",
      "Song 10: \"In My Life\"\n",
      "Song 11: \"I Am the Walrus\"\n",
      "Song 12: \"While My Guitar Gently Weeps\"\n",
      "Song 13: \"Strawberry Fields Forever\"\n",
      "Song 14: \"Across the Universe\"\n",
      "Song 15: \"With a Little Help from My Friends\"\n",
      "Song 16: \"Lucy in the Sky with Diamonds\"\n",
      "Song 17: \"Ob-La-Di, Ob-La-Da\"\n",
      "Song 18: \"Michelle\"\n",
      "Song 19: \"Help!\"\n",
      "Song 20: \"Yellow Submarine\"\n",
      "\n",
      "Reached user-specified song limit (20).\n",
      "Done. Found 20 songs.\n",
      "[Song(id, artist, ...), Song(id, artist, ...), Song(id, artist, ...), Song(id, artist, ...), Song(id, artist, ...), Song(id, artist, ...), Song(id, artist, ...), Song(id, artist, ...), Song(id, artist, ...), Song(id, artist, ...), Song(id, artist, ...), Song(id, artist, ...), Song(id, artist, ...), Song(id, artist, ...), Song(id, artist, ...), Song(id, artist, ...), Song(id, artist, ...), Song(id, artist, ...), Song(id, artist, ...), Song(id, artist, ...)]\n",
      "Wrote Lyrics_TheBeatles.json.\n"
     ]
    }
   ],
   "source": [
    "artist = genius.search_artist('The Beatles', max_songs=20, include_features=False)\n",
    "print(artist.songs)\n",
    "artist.save_lyrics() "
   ]
  },
  {
   "cell_type": "markdown",
   "id": "4b76289f-80fe-4c33-aa71-9d896bbfdde5",
   "metadata": {},
   "source": [
    "#### Elton John"
   ]
  },
  {
   "cell_type": "code",
   "execution_count": 94,
   "id": "a633d569-23cf-48c5-99b3-41e970dfd09b",
   "metadata": {},
   "outputs": [
    {
     "name": "stdout",
     "output_type": "stream",
     "text": [
      "Searching for songs by Elton John...\n",
      "\n",
      "Song 1: \"Your Song\"\n",
      "Song 2: \"I’m Still Standing\"\n",
      "Song 3: \"Bennie and the Jets\"\n",
      "Song 4: \"Rocket Man (I Think It’s Going to Be a Long, Long Time)\"\n",
      "Song 5: \"Goodbye Yellow Brick Road\"\n",
      "Song 6: \"Don’t Let the Sun Go Down on Me\"\n",
      "Song 7: \"Tiny Dancer\"\n",
      "Song 8: \"Can You Feel the Love Tonight (End Title)\"\n",
      "Song 9: \"Crocodile Rock\"\n",
      "Song 10: \"Candle in the Wind\"\n",
      "Song 11: \"Candle in the Wind 1997\"\n",
      "Song 12: \"Saturday Night’s Alright (For Fighting)\"\n",
      "Song 13: \"Daniel\"\n",
      "Song 14: \"I Guess That’s Why They Call It the Blues\"\n",
      "Song 15: \"Border Song\"\n",
      "Song 16: \"Sacrifice\"\n",
      "Couldn't find the lyrics section. Please report this if the song has lyrics.\n",
      "Song URL: https://genius.com/Kanye-west-all-of-the-lights-interlude-lyrics\n",
      "Song 17: \"Circle of Life\"\n",
      "Song 18: \"Levon\"\n",
      "Song 19: \"Someone Saved My Life Tonight\"\n",
      "Song 20: \"Mona Lisas and Mad Hatters\"\n",
      "\n",
      "Reached user-specified song limit (20).\n",
      "Done. Found 20 songs.\n",
      "[Song(id, artist, ...), Song(id, artist, ...), Song(id, artist, ...), Song(id, artist, ...), Song(id, artist, ...), Song(id, artist, ...), Song(id, artist, ...), Song(id, artist, ...), Song(id, artist, ...), Song(id, artist, ...), Song(id, artist, ...), Song(id, artist, ...), Song(id, artist, ...), Song(id, artist, ...), Song(id, artist, ...), Song(id, artist, ...), Song(id, artist, ...), Song(id, artist, ...), Song(id, artist, ...), Song(id, artist, ...)]\n",
      "Wrote Lyrics_EltonJohn.json.\n"
     ]
    }
   ],
   "source": [
    "artist = genius.search_artist('Elton John', max_songs=20, include_features=False)\n",
    "print(artist.songs)\n",
    "artist.save_lyrics() "
   ]
  },
  {
   "cell_type": "markdown",
   "id": "869dc067-9bf9-4d57-9c3e-58e1ffad35c3",
   "metadata": {},
   "source": [
    "**WHO ASSIGNED ALL OF THE LIGHTS TO ELTON JOHN?** "
   ]
  },
  {
   "cell_type": "markdown",
   "id": "3809683b-9249-499c-9678-74f8443bc4e2",
   "metadata": {},
   "source": [
    "#### Lady Gaga"
   ]
  },
  {
   "cell_type": "code",
   "execution_count": 100,
   "id": "11bc0d4a-ea25-4b25-893e-988aa87534d5",
   "metadata": {},
   "outputs": [
    {
     "name": "stdout",
     "output_type": "stream",
     "text": [
      "Searching for songs by Lady Gaga...\n",
      "\n",
      "Song 1: \"Poker Face\"\n",
      "Song 2: \"Bad Romance\"\n",
      "Song 3: \"Always Remember Us This Way\"\n",
      "Song 4: \"Do What U Want\"\n",
      "Song 5: \"Sexxx Dreams\"\n",
      "Song 6: \"Million Reasons\"\n",
      "Song 7: \"I’ll Never Love Again (Extended Version)\"\n",
      "Song 8: \"Born This Way\"\n",
      "Song 9: \"G.U.Y.\"\n",
      "Song 10: \"911\"\n",
      "Song 11: \"Applause\"\n",
      "Song 12: \"Bloody Mary\"\n",
      "Song 13: \"Paparazzi\"\n",
      "Song 14: \"The Cure\"\n",
      "Song 15: \"Venus\"\n",
      "Song 16: \"Telephone\"\n",
      "Song 17: \"Just Dance\"\n",
      "Song 18: \"Alejandro\"\n",
      "Song 19: \"Judas\"\n",
      "Song 20: \"Perfect Illusion\"\n",
      "\n",
      "Reached user-specified song limit (20).\n",
      "Done. Found 20 songs.\n",
      "[Song(id, artist, ...), Song(id, artist, ...), Song(id, artist, ...), Song(id, artist, ...), Song(id, artist, ...), Song(id, artist, ...), Song(id, artist, ...), Song(id, artist, ...), Song(id, artist, ...), Song(id, artist, ...), Song(id, artist, ...), Song(id, artist, ...), Song(id, artist, ...), Song(id, artist, ...), Song(id, artist, ...), Song(id, artist, ...), Song(id, artist, ...), Song(id, artist, ...), Song(id, artist, ...), Song(id, artist, ...)]\n",
      "Wrote Lyrics_LadyGaga.json.\n"
     ]
    }
   ],
   "source": [
    "artist = genius.search_artist('Lady Gaga', max_songs=20, include_features=False)\n",
    "print(artist.songs)\n",
    "artist.save_lyrics() "
   ]
  }
 ],
 "metadata": {
  "kernelspec": {
   "display_name": "Python 3 (ipykernel)",
   "language": "python",
   "name": "python3"
  },
  "language_info": {
   "codemirror_mode": {
    "name": "ipython",
    "version": 3
   },
   "file_extension": ".py",
   "mimetype": "text/x-python",
   "name": "python",
   "nbconvert_exporter": "python",
   "pygments_lexer": "ipython3",
   "version": "3.9.16"
  }
 },
 "nbformat": 4,
 "nbformat_minor": 5
}

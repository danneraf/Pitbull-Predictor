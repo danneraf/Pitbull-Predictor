{
 "cells": [
  {
   "cell_type": "markdown",
   "id": "efc7674d-aaa5-4b4b-b564-f4531a924e74",
   "metadata": {
    "tags": []
   },
   "source": [
    "## Let's get some GPT in here. Dale "
   ]
  },
  {
   "cell_type": "markdown",
   "id": "918ca9e0-2c7e-4b1b-bf03-aebb18d04376",
   "metadata": {},
   "source": [
    "![gpt](../Images/chatgpt.jpg)"
   ]
  },
  {
   "cell_type": "markdown",
   "id": "7eba7bc2-dbf5-409f-ab4a-d0d84a5d86bd",
   "metadata": {},
   "source": [
    "Some installs/upgrades to make sure everything was up to date for the GPT code to work properly: "
   ]
  },
  {
   "cell_type": "code",
   "execution_count": 1,
   "id": "21905fb2-8d12-4775-91f6-c2bd2e9c4af8",
   "metadata": {},
   "outputs": [],
   "source": [
    "#!pip install --upgrade tensorflow\n",
    "#!pip install --upgrade transformers\n",
    "#!pip install --upgrade tokenizers"
   ]
  },
  {
   "cell_type": "code",
   "execution_count": 2,
   "id": "c7782acf-afd1-4b79-bf18-b7a070e9e12b",
   "metadata": {},
   "outputs": [],
   "source": [
    "#https://huggingface.co/docs/transformers/installation \n",
    "#!pip install 'transformers[tf-cpu]'"
   ]
  },
  {
   "cell_type": "code",
   "execution_count": 3,
   "id": "a750bf54-2015-4377-bfc3-4c6c053d6ca6",
   "metadata": {},
   "outputs": [],
   "source": [
    "#!pip install accelerate -U"
   ]
  },
  {
   "cell_type": "markdown",
   "id": "ba053ce7-a712-494e-8607-9b90a67f4171",
   "metadata": {},
   "source": [
    "### Causal Language Modeling with DistilGPT2 "
   ]
  },
  {
   "cell_type": "markdown",
   "id": "339cb1e0-cf47-4132-a3fe-a39e1fa84a97",
   "metadata": {},
   "source": [
    "Instructions [here](https://huggingface.co/docs/transformers/v4.22.2/en/tasks/language_modeling) and [here](https://github.com/christianversloot/machine-learning-articles/blob/main/easy-causal-language-modeling-with-machine-learning-and-huggingface-transformers.md)"
   ]
  },
  {
   "cell_type": "code",
   "execution_count": 4,
   "id": "fffefd6f-0e93-4f28-a70c-1bd0f26781e1",
   "metadata": {},
   "outputs": [
    {
     "name": "stderr",
     "output_type": "stream",
     "text": [
      "2023-06-10 03:42:08.441133: I tensorflow/core/platform/cpu_feature_guard.cc:182] This TensorFlow binary is optimized to use available CPU instructions in performance-critical operations.\n",
      "To enable the following instructions: AVX2 FMA, in other operations, rebuild TensorFlow with the appropriate compiler flags.\n",
      "/Users/danner/opt/anaconda3/lib/python3.9/site-packages/transformers/data/datasets/language_modeling.py:53: FutureWarning: This dataset will be removed from the library soon, preprocessing should be handled with the 🤗 Datasets library. You can have a look at this example script for pointers: https://github.com/huggingface/transformers/blob/main/examples/pytorch/language-modeling/run_mlm.py\n",
      "  warnings.warn(\n",
      "/Users/danner/opt/anaconda3/lib/python3.9/site-packages/transformers/optimization.py:411: FutureWarning: This implementation of AdamW is deprecated and will be removed in a future version. Use the PyTorch implementation torch.optim.AdamW instead, or set `no_deprecation_warning=True` to disable this warning\n",
      "  warnings.warn(\n"
     ]
    },
    {
     "data": {
      "text/html": [
       "\n",
       "    <div>\n",
       "      \n",
       "      <progress value='636' max='636' style='width:300px; height:20px; vertical-align: middle;'></progress>\n",
       "      [636/636 3:52:04, Epoch 3/3]\n",
       "    </div>\n",
       "    <table border=\"1\" class=\"dataframe\">\n",
       "  <thead>\n",
       " <tr style=\"text-align: left;\">\n",
       "      <th>Step</th>\n",
       "      <th>Training Loss</th>\n",
       "    </tr>\n",
       "  </thead>\n",
       "  <tbody>\n",
       "    <tr>\n",
       "      <td>500</td>\n",
       "      <td>3.922000</td>\n",
       "    </tr>\n",
       "  </tbody>\n",
       "</table><p>"
      ],
      "text/plain": [
       "<IPython.core.display.HTML object>"
      ]
     },
     "metadata": {},
     "output_type": "display_data"
    },
    {
     "data": {
      "text/plain": [
       "TrainOutput(global_step=636, training_loss=3.8688333859233737, metrics={'train_runtime': 13944.4688, 'train_samples_per_second': 0.728, 'train_steps_per_second': 0.046, 'total_flos': 331389603938304.0, 'train_loss': 3.8688333859233737, 'epoch': 3.0})"
      ]
     },
     "execution_count": 4,
     "metadata": {},
     "output_type": "execute_result"
    }
   ],
   "source": [
    "from transformers import GPT2Tokenizer, GPT2LMHeadModel, TextDataset, DataCollatorForLanguageModeling, Trainer, TrainingArguments\n",
    "\n",
    "# Load tokenizer\n",
    "tokenizer = GPT2Tokenizer.from_pretrained('distilgpt2')\n",
    "\n",
    "# Tokenize the training data\n",
    "train_dataset = TextDataset(\n",
    "    tokenizer=tokenizer,\n",
    "    file_path='../Data/pitbull.txt',\n",
    "    block_size=128\n",
    ")\n",
    "\n",
    "# Define the data collator for language modeling\n",
    "data_collator = DataCollatorForLanguageModeling(\n",
    "    tokenizer=tokenizer,\n",
    "    mlm=False\n",
    ")\n",
    "\n",
    "# Load the GPT-2 model\n",
    "model = GPT2LMHeadModel.from_pretrained('distilgpt2')\n",
    "\n",
    "# Define the training arguments\n",
    "training_args = TrainingArguments(\n",
    "    output_dir='../GPT/',  \n",
    "    overwrite_output_dir=True,\n",
    "    num_train_epochs=3,\n",
    "    per_device_train_batch_size=16,\n",
    "    save_steps=1000,\n",
    "    save_total_limit=2,\n",
    "    prediction_loss_only=True,\n",
    "    logging_dir='../GPT/' \n",
    ")\n",
    "\n",
    "# Create the Trainer\n",
    "trainer = Trainer(\n",
    "    model=model,\n",
    "    args=training_args,\n",
    "    data_collator=data_collator,\n",
    "    train_dataset=train_dataset,\n",
    ")\n",
    "\n",
    "# Start the training\n",
    "trainer.train()\n"
   ]
  },
  {
   "cell_type": "markdown",
   "id": "4ba241ff-3400-4d4b-a5d5-e22481998b5e",
   "metadata": {},
   "source": [
    " First Time\n",
    " \n",
    "[636/636 3:38:30, Epoch 3/3]\n",
    "Step\tTraining Loss\n",
    "500\t3.922000\n",
    "TrainOutput(global_step=636, training_loss=3.8688333859233737, metrics={'train_runtime': 13140.3418, 'train_samples_per_second': 0.772, 'train_steps_per_second': 0.048, 'total_flos': 331389603938304.0, 'train_loss': 3.8688333859233737, 'epoch': 3.0})"
   ]
  },
  {
   "cell_type": "markdown",
   "id": "cbe86cf0-33f8-4d03-ae76-c371298207ab",
   "metadata": {},
   "source": [
    "Second Time\n",
    "\n",
    " [636/636 3:01:21, Epoch 3/3]\n",
    "Step\tTraining Loss\n",
    "500\t3.922000\n",
    "TrainOutput(global_step=636, training_loss=3.8688333859233737, metrics={'train_runtime': 10900.8354, 'train_samples_per_second': 0.931, 'train_steps_per_second': 0.058, 'total_flos': 331389603938304.0, 'train_loss': 3.8688333859233737, 'epoch': 3.0})"
   ]
  },
  {
   "cell_type": "markdown",
   "id": "f1416096-ec32-4c9c-8029-7cda59c05f69",
   "metadata": {},
   "source": [
    "Third Time\n",
    "\n",
    "[636/636 3:52:04, Epoch 3/3]\n",
    "Step\tTraining Loss\n",
    "500\t3.922000\n",
    "TrainOutput(global_step=636, training_loss=3.8688333859233737, metrics={'train_runtime': 13944.4688, 'train_samples_per_second': 0.728, 'train_steps_per_second': 0.046, 'total_flos': 331389603938304.0, 'train_loss': 3.8688333859233737, 'epoch': 3.0})"
   ]
  },
  {
   "cell_type": "markdown",
   "id": "fd82a9e2-03ac-416b-b04f-288c2c4cb031",
   "metadata": {},
   "source": [
    "Over 3 1/2 hours 😍 "
   ]
  },
  {
   "cell_type": "code",
   "execution_count": 5,
   "id": "28a7f220-20e1-4993-86e5-b4fa04680d48",
   "metadata": {},
   "outputs": [
    {
     "data": {
      "text/plain": [
       "('../GPT/tokenizer_config.json',\n",
       " '../GPT/special_tokens_map.json',\n",
       " '../GPT/vocab.json',\n",
       " '../GPT/merges.txt',\n",
       " '../GPT/added_tokens.json')"
      ]
     },
     "execution_count": 5,
     "metadata": {},
     "output_type": "execute_result"
    }
   ],
   "source": [
    "# Save the model that took way too long \n",
    "model.save_pretrained('../GPT')\n",
    "\n",
    "#https://stackoverflow.com/questions/66276186/huggingface-gpt2-tokenizer-configuration-in-config-json \n",
    "tokenizer.save_pretrained('../GPT')"
   ]
  },
  {
   "cell_type": "markdown",
   "id": "d196f7e3-c521-4c51-85be-3f484ad67acc",
   "metadata": {},
   "source": [
    "![pc](../Images/kickpc.WEBP)"
   ]
  }
 ],
 "metadata": {
  "kernelspec": {
   "display_name": "Python 3 (ipykernel)",
   "language": "python",
   "name": "python3"
  },
  "language_info": {
   "codemirror_mode": {
    "name": "ipython",
    "version": 3
   },
   "file_extension": ".py",
   "mimetype": "text/x-python",
   "name": "python",
   "nbconvert_exporter": "python",
   "pygments_lexer": "ipython3",
   "version": "3.9.16"
  }
 },
 "nbformat": 4,
 "nbformat_minor": 5
}
